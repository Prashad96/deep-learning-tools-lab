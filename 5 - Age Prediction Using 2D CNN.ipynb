{
  "nbformat": 4,
  "nbformat_minor": 0,
  "metadata": {
    "colab": {
      "name": "5 - Age Prediction Using 2D CNN.ipynb",
      "provenance": [],
      "toc_visible": true,
      "authorship_tag": "ABX9TyMnF30KxdZ0bF1Uho0jTaGn",
      "include_colab_link": true
    },
    "kernelspec": {
      "name": "python3",
      "display_name": "Python 3"
    },
    "language_info": {
      "name": "python"
    },
    "accelerator": "GPU"
  },
  "cells": [
    {
      "cell_type": "markdown",
      "metadata": {
        "id": "view-in-github",
        "colab_type": "text"
      },
      "source": [
        "<a href=\"https://colab.research.google.com/github/livinNector/deep-learning-tools-lab/blob/main/5%20-%20Age%20Prediction%20Using%202D%20CNN.ipynb\" target=\"_parent\"><img src=\"https://colab.research.google.com/assets/colab-badge.svg\" alt=\"Open In Colab\"/></a>"
      ]
    },
    {
      "cell_type": "markdown",
      "source": [
        "# 5 - Age Prediction Using 2D CNN"
      ],
      "metadata": {
        "id": "Px1XApsbkpSf"
      }
    },
    {
      "cell_type": "markdown",
      "source": [
        "## Importing Modules"
      ],
      "metadata": {
        "id": "_x5bNcgRkuU9"
      }
    },
    {
      "cell_type": "code",
      "source": [
        "import tensorflow as tf\n",
        "import tensorflow.keras.layers as tfl\n",
        "import os"
      ],
      "metadata": {
        "id": "q-8eU_n_lfAz"
      },
      "execution_count": 1,
      "outputs": []
    },
    {
      "cell_type": "markdown",
      "source": [
        "## Dataset"
      ],
      "metadata": {
        "id": "ZM6HiNuPl8L7"
      }
    },
    {
      "cell_type": "markdown",
      "source": [
        "- Dataset Used : WIKI face dataset from imdb-wiki\n",
        "- Dataset Home Page : https://data.vision.ee.ethz.ch/cvl/rrothe/imdb-wiki/\n",
        "- Dataset Url : https://data.vision.ee.ethz.ch/cvl/rrothe/imdb-wiki/static/wiki.tar.gz"
      ],
      "metadata": {
        "id": "efUIEU7TmADj"
      }
    },
    {
      "cell_type": "code",
      "execution_count": 2,
      "metadata": {
        "id": "g5L7eeJVkIRQ"
      },
      "outputs": [],
      "source": [
        "url = \"https://data.vision.ee.ethz.ch/cvl/rrothe/imdb-wiki/static/wiki_crop.tar\"\n",
        "\n",
        "dataset = tf.keras.utils.get_file(\n",
        "    \"wiki_crop\", url,\n",
        "    untar=True, cache_dir='.',\n",
        "    cache_subdir=''\n",
        ")\n",
        "dataset_dir = os.path.join(os.path.dirname(dataset), 'wiki_crop')"
      ]
    },
    {
      "cell_type": "markdown",
      "source": [
        "### Loading and extracting the age from the meta data file"
      ],
      "metadata": {
        "id": "kCsk63MEsHTK"
      }
    },
    {
      "cell_type": "code",
      "source": [
        "import scipy.io\n",
        "# extract data from wiki.mat\n",
        "mat = scipy.io.loadmat(os.path.join(dataset_dir,'wiki.mat'))"
      ],
      "metadata": {
        "id": "8Z3KQcqWn7wt"
      },
      "execution_count": 3,
      "outputs": []
    },
    {
      "cell_type": "code",
      "source": [
        "import numpy as np\n",
        "import datetime"
      ],
      "metadata": {
        "id": "HTftpNfspn93"
      },
      "execution_count": 4,
      "outputs": []
    },
    {
      "cell_type": "code",
      "source": [
        "mat"
      ],
      "metadata": {
        "colab": {
          "base_uri": "https://localhost:8080/"
        },
        "id": "aqi2EI-UrzWq",
        "outputId": "824e5933-ba6e-4432-9741-56fd88c1fa4d"
      },
      "execution_count": 5,
      "outputs": [
        {
          "output_type": "execute_result",
          "data": {
            "text/plain": [
              "{'__globals__': [],\n",
              " '__header__': b'MATLAB 5.0 MAT-file, Platform: GLNXA64, Created on: Sat Jan 16 16:25:20 2016',\n",
              " '__version__': '1.0',\n",
              " 'wiki': array([[(array([[723671, 703186, 711677, ..., 720620, 723893, 713846]], dtype=int32), array([[2009, 1964, 2008, ..., 2013, 2011, 2008]], dtype=uint16), array([[array(['17/10000217_1981-05-05_2009.jpg'], dtype='<U31'),\n",
              "                 array(['48/10000548_1925-04-04_1964.jpg'], dtype='<U31'),\n",
              "                 array(['12/100012_1948-07-03_2008.jpg'], dtype='<U29'), ...,\n",
              "                 array(['09/9998109_1972-12-27_2013.jpg'], dtype='<U30'),\n",
              "                 array(['00/9999400_1981-12-13_2011.jpg'], dtype='<U30'),\n",
              "                 array(['80/999980_1954-06-11_2008.jpg'], dtype='<U29')]],\n",
              "               dtype=object), array([[1., 1., 1., ..., 1., 1., 0.]]), array([[array(['Sami Jauhojärvi'], dtype='<U15'),\n",
              "                 array(['Dettmar Cramer'], dtype='<U14'),\n",
              "                 array(['Marc Okrand'], dtype='<U11'), ...,\n",
              "                 array(['Michael Wiesinger'], dtype='<U17'),\n",
              "                 array(['Johann Grugger'], dtype='<U14'),\n",
              "                 array(['Greta Van Susteren'], dtype='<U18')]], dtype=object), array([[array([[111.29109473, 111.29109473, 252.66993082, 252.66993082]]),\n",
              "                 array([[252.4833023 , 126.68165115, 354.53192596, 228.73027481]]),\n",
              "                 array([[113.52, 169.84, 366.08, 422.4 ]]), ...,\n",
              "                 array([[169.88839786,  74.31669472, 235.2534231 , 139.68171997]]),\n",
              "                 array([[1, 1, 1, 1]], dtype=uint8),\n",
              "                 array([[ 92.72633235,  62.0435549 , 230.12083087, 199.43805342]])]],\n",
              "               dtype=object), array([[4.30096239, 2.6456395 , 4.32932883, ..., 3.49430317,       -inf,\n",
              "                 5.48691655]]), array([[       nan, 1.94924791,        nan, ...,        nan,        nan,\n",
              "                        nan]]))                                                                                                                                                                                           ]],\n",
              "       dtype=[('dob', 'O'), ('photo_taken', 'O'), ('full_path', 'O'), ('gender', 'O'), ('name', 'O'), ('face_location', 'O'), ('face_score', 'O'), ('second_face_score', 'O')])}"
            ]
          },
          "metadata": {},
          "execution_count": 5
        }
      ]
    },
    {
      "cell_type": "code",
      "source": [
        "mat[\"wiki\"][\"dob\"][0][0][0]"
      ],
      "metadata": {
        "colab": {
          "base_uri": "https://localhost:8080/"
        },
        "id": "zbkp9RW6rvvp",
        "outputId": "da18b10c-db7f-4194-e670-0019020272ef"
      },
      "execution_count": 6,
      "outputs": [
        {
          "output_type": "execute_result",
          "data": {
            "text/plain": [
              "array([723671, 703186, 711677, ..., 720620, 723893, 713846], dtype=int32)"
            ]
          },
          "metadata": {},
          "execution_count": 6
        }
      ]
    },
    {
      "cell_type": "code",
      "source": [
        "dob = np.vectorize(lambda x: datetime.datetime.fromordinal(x).year)(\n",
        "    mat[\"wiki\"][\"dob\"][0][0][0]\n",
        ")\n",
        "photo_taken = mat[\"wiki\"][\"photo_taken\"][0][0][0]"
      ],
      "metadata": {
        "id": "JrtB7k-zo22D"
      },
      "execution_count": 7,
      "outputs": []
    },
    {
      "cell_type": "code",
      "source": [
        "age = (photo_taken-dob).astype(np.float32)"
      ],
      "metadata": {
        "id": "Ea1Mu__Qreag"
      },
      "execution_count": 8,
      "outputs": []
    },
    {
      "cell_type": "code",
      "source": [
        "age"
      ],
      "metadata": {
        "colab": {
          "base_uri": "https://localhost:8080/"
        },
        "id": "c1fhRc5Fq2Yb",
        "outputId": "6b005fd4-f39c-456b-afa1-d2b8459879d9"
      },
      "execution_count": 9,
      "outputs": [
        {
          "output_type": "execute_result",
          "data": {
            "text/plain": [
              "array([27., 38., 59., ..., 40., 29., 53.], dtype=float32)"
            ]
          },
          "metadata": {},
          "execution_count": 9
        }
      ]
    },
    {
      "cell_type": "code",
      "source": [
        "mat[\"wiki\"][\"full_path\"][0][0][0]"
      ],
      "metadata": {
        "colab": {
          "base_uri": "https://localhost:8080/"
        },
        "id": "YV11I4rqv41i",
        "outputId": "31fe1c1a-5d5e-4524-9762-f05f833b20fc"
      },
      "execution_count": 10,
      "outputs": [
        {
          "output_type": "execute_result",
          "data": {
            "text/plain": [
              "array([array(['17/10000217_1981-05-05_2009.jpg'], dtype='<U31'),\n",
              "       array(['48/10000548_1925-04-04_1964.jpg'], dtype='<U31'),\n",
              "       array(['12/100012_1948-07-03_2008.jpg'], dtype='<U29'), ...,\n",
              "       array(['09/9998109_1972-12-27_2013.jpg'], dtype='<U30'),\n",
              "       array(['00/9999400_1981-12-13_2011.jpg'], dtype='<U30'),\n",
              "       array(['80/999980_1954-06-11_2008.jpg'], dtype='<U29')],\n",
              "      dtype=object)"
            ]
          },
          "metadata": {},
          "execution_count": 10
        }
      ]
    },
    {
      "cell_type": "code",
      "source": [
        "file_path = np.vectorize(lambda x : os.path.join(dataset_dir,x[0]))(\n",
        "    mat[\"wiki\"][\"full_path\"][0][0][0]\n",
        ")"
      ],
      "metadata": {
        "id": "wb2hcIRQvZXD"
      },
      "execution_count": 11,
      "outputs": []
    },
    {
      "cell_type": "code",
      "source": [
        "file_path"
      ],
      "metadata": {
        "colab": {
          "base_uri": "https://localhost:8080/"
        },
        "id": "q9u3J27ywRd-",
        "outputId": "bfdf5e17-6edb-4d21-8feb-ac3ca0b83fa7"
      },
      "execution_count": 12,
      "outputs": [
        {
          "output_type": "execute_result",
          "data": {
            "text/plain": [
              "array(['./wiki_crop/17/10000217_1981-05-05_2009.jpg',\n",
              "       './wiki_crop/48/10000548_1925-04-04_1964.jpg',\n",
              "       './wiki_crop/12/100012_1948-07-03_2008.jpg', ...,\n",
              "       './wiki_crop/09/9998109_1972-12-27_2013.jpg',\n",
              "       './wiki_crop/00/9999400_1981-12-13_2011.jpg',\n",
              "       './wiki_crop/80/999980_1954-06-11_2008.jpg'], dtype='<U49')"
            ]
          },
          "metadata": {},
          "execution_count": 12
        }
      ]
    },
    {
      "cell_type": "code",
      "source": [
        "file_age_ds = tf.data.Dataset.from_tensor_slices((file_path,age))"
      ],
      "metadata": {
        "id": "aJgB3wZXtVSC"
      },
      "execution_count": 13,
      "outputs": []
    },
    {
      "cell_type": "code",
      "source": [
        "def parse_function(filename, label):\n",
        "    image_string = tf.io.read_file(filename)\n",
        "    image_decoded = tf.io.decode_jpeg(image_string,channels=1)\n",
        "    image = tf.image.resize(image_decoded, [256, 256])\n",
        "    return image, tf.expand_dims(label,0)"
      ],
      "metadata": {
        "id": "11NgrNBuvTq9"
      },
      "execution_count": 14,
      "outputs": []
    },
    {
      "cell_type": "code",
      "source": [
        "image_age_ds = file_age_ds.map(parse_function).shuffle(seed=2,buffer_size=64)"
      ],
      "metadata": {
        "id": "nKr6_2nYwima"
      },
      "execution_count": 15,
      "outputs": []
    },
    {
      "cell_type": "code",
      "source": [
        "image_age_ds"
      ],
      "metadata": {
        "colab": {
          "base_uri": "https://localhost:8080/"
        },
        "id": "kHaAjUOWBqgZ",
        "outputId": "99461c22-a05d-4736-ca1b-aa442601b0a5"
      },
      "execution_count": 16,
      "outputs": [
        {
          "output_type": "execute_result",
          "data": {
            "text/plain": [
              "<ShuffleDataset element_spec=(TensorSpec(shape=(256, 256, 1), dtype=tf.float32, name=None), TensorSpec(shape=(1,), dtype=tf.float32, name=None))>"
            ]
          },
          "metadata": {},
          "execution_count": 16
        }
      ]
    },
    {
      "cell_type": "code",
      "source": [
        "dataset_size = image_age_ds.cardinality().numpy()"
      ],
      "metadata": {
        "id": "Pcte6R6X4i-s"
      },
      "execution_count": 17,
      "outputs": []
    },
    {
      "cell_type": "code",
      "source": [
        "AUTOTUNE = tf.data.AUTOTUNE\n",
        "train_ds = image_age_ds.take(dataset_size*.6).batch(32).prefetch(AUTOTUNE)\n",
        "val_ds = image_age_ds.skip(dataset_size*.6).take(dataset_size*.2).batch(32).prefetch(AUTOTUNE)\n",
        "test_ds = image_age_ds.skip(dataset_size*.8).take(dataset_size*.2).batch(32).prefetch(AUTOTUNE)"
      ],
      "metadata": {
        "id": "fEpDfC-l0skq"
      },
      "execution_count": 19,
      "outputs": []
    },
    {
      "cell_type": "markdown",
      "source": [
        "## Creating the model"
      ],
      "metadata": {
        "id": "_r6lYoeWxp9c"
      }
    },
    {
      "cell_type": "code",
      "source": [
        "model = tf.keras.Sequential([\n",
        "    tfl.Conv2D(32,(7,7),padding=\"valid\",activation=\"relu\",input_shape=(256,256,1)),\n",
        "    tfl.MaxPool2D((4,4),strides = 4),\n",
        "    tfl.Conv2D(64,(3,3),padding = \"valid\",activation=\"relu\"),\n",
        "    tfl.MaxPool2D((4,4),strides = 4),\n",
        "    tfl.Conv2D(128,(3,3),padding = \"valid\",activation=\"relu\"),\n",
        "    tfl.MaxPool2D((2,2),strides = 2),\n",
        "    tfl.Conv2D(256,(1,1),padding= \"valid\",activation=\"relu\",),\n",
        "    tfl.MaxPool2D((2,2),strides = 2),\n",
        "    tfl.Flatten(),\n",
        "    tfl.Dense(64,activation=\"relu\"),\n",
        "    tfl.Dense(1)                             \n",
        "])"
      ],
      "metadata": {
        "id": "NKGNyelDxuc8"
      },
      "execution_count": 20,
      "outputs": []
    },
    {
      "cell_type": "code",
      "source": [
        "model.summary()"
      ],
      "metadata": {
        "colab": {
          "base_uri": "https://localhost:8080/"
        },
        "id": "9mmbkbXSz8WO",
        "outputId": "1ad1c64b-d2c2-4511-b363-411fdd03866f"
      },
      "execution_count": 21,
      "outputs": [
        {
          "output_type": "stream",
          "name": "stdout",
          "text": [
            "Model: \"sequential\"\n",
            "_________________________________________________________________\n",
            " Layer (type)                Output Shape              Param #   \n",
            "=================================================================\n",
            " conv2d (Conv2D)             (None, 250, 250, 32)      1600      \n",
            "                                                                 \n",
            " max_pooling2d (MaxPooling2D  (None, 62, 62, 32)       0         \n",
            " )                                                               \n",
            "                                                                 \n",
            " conv2d_1 (Conv2D)           (None, 60, 60, 64)        18496     \n",
            "                                                                 \n",
            " max_pooling2d_1 (MaxPooling  (None, 15, 15, 64)       0         \n",
            " 2D)                                                             \n",
            "                                                                 \n",
            " conv2d_2 (Conv2D)           (None, 13, 13, 128)       73856     \n",
            "                                                                 \n",
            " max_pooling2d_2 (MaxPooling  (None, 6, 6, 128)        0         \n",
            " 2D)                                                             \n",
            "                                                                 \n",
            " conv2d_3 (Conv2D)           (None, 6, 6, 256)         33024     \n",
            "                                                                 \n",
            " max_pooling2d_3 (MaxPooling  (None, 3, 3, 256)        0         \n",
            " 2D)                                                             \n",
            "                                                                 \n",
            " flatten (Flatten)           (None, 2304)              0         \n",
            "                                                                 \n",
            " dense (Dense)               (None, 64)                147520    \n",
            "                                                                 \n",
            " dense_1 (Dense)             (None, 1)                 65        \n",
            "                                                                 \n",
            "=================================================================\n",
            "Total params: 274,561\n",
            "Trainable params: 274,561\n",
            "Non-trainable params: 0\n",
            "_________________________________________________________________\n"
          ]
        }
      ]
    },
    {
      "cell_type": "code",
      "source": [
        "model.compile(\n",
        "    optimizer='adam',\n",
        "    loss=tf.keras.losses.MeanAbsoluteError(),\n",
        "    metrics=['MAE']\n",
        ")"
      ],
      "metadata": {
        "id": "SsiKWcRC2Xt4"
      },
      "execution_count": 22,
      "outputs": []
    },
    {
      "cell_type": "code",
      "source": [
        "model.fit(\n",
        "    train_ds,\n",
        "    validation_data=val_ds,\n",
        "    epochs=10,\n",
        "    callbacks=[\n",
        "        tf.keras.callbacks.TensorBoard(log_dir=\"logs\")\n",
        "    ]\n",
        ")"
      ],
      "metadata": {
        "colab": {
          "base_uri": "https://localhost:8080/"
        },
        "id": "3gNgl6oH0MB0",
        "outputId": "7b7cf08e-be66-4137-8ccb-f30f30f5ff9a"
      },
      "execution_count": null,
      "outputs": [
        {
          "output_type": "stream",
          "name": "stdout",
          "text": [
            "Epoch 1/10\n",
            "1169/1169 [==============================] - 132s 111ms/step - loss: 14.2288 - MAE: 14.2288 - val_loss: 12.9011 - val_MAE: 12.9011\n",
            "Epoch 2/10\n",
            " 459/1169 [==========>...................] - ETA: 54s - loss: 13.8113 - MAE: 13.8113"
          ]
        }
      ]
    },
    {
      "cell_type": "markdown",
      "source": [
        "## Visualizing the training process with tensorboard"
      ],
      "metadata": {
        "id": "ig4Q5JidLwkt"
      }
    },
    {
      "cell_type": "code",
      "source": [
        "%load_ext tensorboard\n",
        "%tensorboard --logdir logs"
      ],
      "metadata": {
        "id": "f4U1N7DFL6lx"
      },
      "execution_count": null,
      "outputs": []
    },
    {
      "cell_type": "markdown",
      "source": [
        "## Evaluating the model"
      ],
      "metadata": {
        "id": "qzM_PcMvLkz2"
      }
    },
    {
      "cell_type": "code",
      "source": [
        "loss, accuracy = model.evaluate(test_ds)\n",
        "\n",
        "print(\"Loss: \", loss)\n",
        "print(\"Accuracy: \", accuracy)"
      ],
      "metadata": {
        "id": "vdgxOnfoKpgm"
      },
      "execution_count": null,
      "outputs": []
    }
  ]
}